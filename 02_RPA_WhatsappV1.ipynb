{
 "cells": [
  {
   "cell_type": "markdown",
   "id": "f302d7b5",
   "metadata": {},
   "source": [
    "### O Aplicativo Whatsapp\n",
    "O envio de mensagens usando o aplicativo WhatsApp não é mais uma tendência e sim uma realidade. \n",
    "Muitas empresas aderiram a este novo formato e passaram a substituir determinadas comunicações, que antes eram enviadas por e-mail ou SMS, pelo WhatsApp. Incusive, estes últimos anos de pandemia, demonstraram um crescimento, inclusive, das vendas pelo Whatsapp."
   ]
  },
  {
   "cell_type": "markdown",
   "id": "7cfc5035",
   "metadata": {},
   "source": [
    "### Os mesmos métodos  usados p/ envio de e-mail podem ser adaptados para envio de mensagens whatsapp"
   ]
  },
  {
   "cell_type": "code",
   "execution_count": 1,
   "id": "1e3a0b42",
   "metadata": {},
   "outputs": [],
   "source": [
    "import pyautogui\n",
    "import pyperclip\n",
    "import time\n",
    "\n",
    "pyautogui.PAUSE = 1\n",
    "\n",
    "#Automatizando Envio de msg pelo Whatsapp\n",
    "# OBSERVAÇÂO1: Para que funcione você precisa logar previamente no whatsapp antes de executar este RPA\n",
    "# OBSERVAÇÂO2: Só consegue enviar mensagens para contatos previamente cadastrados na sua agenda; \n",
    "# ###########  pois o whatsapp só permite cadastrar novos contatos através do aplicativo p/ smartphone\n",
    "pyautogui.hotkey(\"ctrl\", \"t\")\n",
    "pyperclip.copy(\"https://web.whatsapp.com/\")\n",
    "pyautogui.hotkey(\"ctrl\", \"v\")\n",
    "pyautogui.press(\"enter\")\n",
    "time.sleep(10)\n",
    "pyautogui.press(\"tab\") # pula pro campo de assunto\n",
    "pyautogui.press(\"tab\") # pula pro campo de assunto\n",
    "pyautogui.press(\"tab\") # pula pro campo de assunto\n",
    "pyautogui.press(\"tab\") # pula pro campo de assunto\n",
    "pyautogui.write(\"Massaki Igarashi\")\n",
    "pyautogui.press(\"enter\")\n",
    "time.sleep(7)\n",
    "pyautogui.write(\"Mensagagem enviada automaticamente pelo RPA programado pelo Prof. Massaki\")\n",
    "pyautogui.press(\"enter\")\n",
    "time.sleep(7)\n",
    "pyautogui.press(\"tab\") # pula pro campo de assunto\n",
    "pyautogui.press(\"tab\") # pula pro campo de assunto\n",
    "time.sleep(7)\n",
    "pyautogui.write(\"Massaki Igarashi\")\n",
    "pyautogui.press(\"enter\")\n",
    "time.sleep(7)\n",
    "pyautogui.write(\"Mensagagem enviada automaticamente pelo RPA programado pelo Prof. Massaki\")\n",
    "pyautogui.press(\"enter\")\n",
    "time.sleep(7)"
   ]
  },
  {
   "cell_type": "code",
   "execution_count": null,
   "id": "f35e12d2",
   "metadata": {},
   "outputs": [],
   "source": []
  }
 ],
 "metadata": {
  "kernelspec": {
   "display_name": "Python 3 (ipykernel)",
   "language": "python",
   "name": "python3"
  },
  "language_info": {
   "codemirror_mode": {
    "name": "ipython",
    "version": 3
   },
   "file_extension": ".py",
   "mimetype": "text/x-python",
   "name": "python",
   "nbconvert_exporter": "python",
   "pygments_lexer": "ipython3",
   "version": "3.9.12"
  }
 },
 "nbformat": 4,
 "nbformat_minor": 5
}
