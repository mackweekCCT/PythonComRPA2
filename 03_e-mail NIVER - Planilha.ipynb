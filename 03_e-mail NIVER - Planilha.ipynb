{
 "cells": [
  {
   "cell_type": "markdown",
   "id": "54e0713d",
   "metadata": {},
   "source": [
    "# BIBLIOTECAS para Robotic Process Automation – RPA"
   ]
  },
  {
   "cell_type": "code",
   "execution_count": 74,
   "id": "1de5f8bb",
   "metadata": {},
   "outputs": [],
   "source": [
    "import pyautogui\n",
    "import pyperclip\n",
    "import time\n",
    "pyautogui.PAUSE = 1"
   ]
  },
  {
   "cell_type": "code",
   "execution_count": 75,
   "id": "b0dac2ef",
   "metadata": {},
   "outputs": [],
   "source": [
    "import pandas"
   ]
  },
  {
   "cell_type": "code",
   "execution_count": 76,
   "id": "52f248f0",
   "metadata": {},
   "outputs": [
    {
     "name": "stdout",
     "output_type": "stream",
     "text": [
      "                          e-mail       NIVER\n",
      "0         prof.massaki@gmail.com  09/09/2022\n",
      "1  massaki.igarashi@mackenzie.br  25/05/2022\n",
      "2     massaki.igarashi@gmail.com  12/09/2022\n"
     ]
    }
   ],
   "source": [
    "import pandas as pd\n",
    "df = pd.read_csv('mailLIST.csv', sep = \";\")\n",
    "print(df)"
   ]
  },
  {
   "cell_type": "code",
   "execution_count": 77,
   "id": "69e7301e",
   "metadata": {},
   "outputs": [
    {
     "data": {
      "text/plain": [
       "'massaki.igarashi@mackenzie.br'"
      ]
     },
     "execution_count": 77,
     "metadata": {},
     "output_type": "execute_result"
    }
   ],
   "source": [
    "mail1 = df[\"e-mail\"][1]\n",
    "mail1"
   ]
  },
  {
   "cell_type": "markdown",
   "id": "f613b161",
   "metadata": {},
   "source": [
    "### pandas.DataFrame.value_counts\n",
    " DataFrame.value_counts(subset=None, normalize=False, sort=True, ascending=False, dropna=True)\n",
    " \n",
    "**Retorna uma série contendo a frequência em cada linha de um DataFrame.**"
   ]
  },
  {
   "cell_type": "code",
   "execution_count": 78,
   "id": "cb97fe47",
   "metadata": {},
   "outputs": [
    {
     "data": {
      "text/plain": [
       "prof.massaki@gmail.com           1\n",
       "massaki.igarashi@mackenzie.br    1\n",
       "massaki.igarashi@gmail.com       1\n",
       "Name: e-mail, dtype: int64"
      ]
     },
     "execution_count": 78,
     "metadata": {},
     "output_type": "execute_result"
    }
   ],
   "source": [
    "df['e-mail'].value_counts()"
   ]
  },
  {
   "cell_type": "markdown",
   "id": "64680da0",
   "metadata": {},
   "source": [
    "#### DataFrame[\"NOME_DA_COLUNA\"][ÍNDICE_DA_LINHA]"
   ]
  },
  {
   "cell_type": "code",
   "execution_count": 79,
   "id": "6768b9ac",
   "metadata": {},
   "outputs": [
    {
     "data": {
      "text/plain": [
       "'prof.massaki@gmail.com'"
      ]
     },
     "execution_count": 79,
     "metadata": {},
     "output_type": "execute_result"
    }
   ],
   "source": [
    "df[\"e-mail\"][0]"
   ]
  },
  {
   "cell_type": "markdown",
   "id": "0065d242",
   "metadata": {},
   "source": [
    "## Substring em Python\n",
    "Uma parte de um texto (string) é conhecida como substring. \n",
    "Existem vários métodos para criar uma substring em python e verificar se uma substring está presente em uma string, índice de uma substring e muito mais. \n",
    "Uma substring em python pode ser gerada por fatiamento da seguinte forma:\n",
    "\n",
    "### string[começo: fim: passo]"
   ]
  },
  {
   "cell_type": "code",
   "execution_count": 80,
   "id": "c1a1e8ce",
   "metadata": {},
   "outputs": [
    {
     "name": "stdout",
     "output_type": "stream",
     "text": [
      "09\n",
      "09\n",
      "2022\n"
     ]
    }
   ],
   "source": [
    "string = df['NIVER'][0]\n",
    "print(string[0: 2])\n",
    "print(string[3: 5])\n",
    "print(string[6: 10])"
   ]
  },
  {
   "cell_type": "markdown",
   "id": "b46bf5e2",
   "metadata": {},
   "source": [
    "## A Classe datetime\n",
    "Uma das vantagens da classe datetime é que ela consegue cuidar da data e do horário ao mesmo tempo. \n",
    "Para isso usaremos o método now():\n",
    "#### Exemplo:"
   ]
  },
  {
   "cell_type": "code",
   "execution_count": 81,
   "id": "6b145194",
   "metadata": {},
   "outputs": [
    {
     "data": {
      "text/plain": [
       "0"
      ]
     },
     "execution_count": 81,
     "metadata": {},
     "output_type": "execute_result"
    }
   ],
   "source": [
    "from datetime import datetime\n",
    "def Periodo(d, m, y):\n",
    "    return (datetime.now().year - y) + (datetime.now().month -m) + (datetime.now().day -d)\n",
    "Periodo(9, 9, 2022)"
   ]
  },
  {
   "cell_type": "markdown",
   "id": "9c758043",
   "metadata": {},
   "source": [
    "## Agora vamos tentar criar uma função denominada Período para calcular o intervalo entre datas\n",
    "Para nosso exemplo, tambvém teremos que recorrer ao conceito de \n",
    "### ESTRUTURA CONDICIONAL\n",
    "Uma estrutura condicional, como o próprio nome já diz é uma estrutura que vai analisar uma condição e baseado no resultado dessa condição é que vamos executar uma determinada ação.\n",
    "\n",
    "Vamos iniciar com a função IF, traduzindo ela significa SE. Então fica mais fácil de entender.\n",
    "\n",
    "Um exemplo simples, SE 10 for maior que 5, então vamos executar uma ação, caso contrário não vamos fazer nada."
   ]
  },
  {
   "cell_type": "code",
   "execution_count": 82,
   "id": "077337a5",
   "metadata": {},
   "outputs": [
    {
     "name": "stdout",
     "output_type": "stream",
     "text": [
      "É niver!\n",
      "Não é\n",
      "Não é\n"
     ]
    }
   ],
   "source": [
    "from datetime import datetime\n",
    "def Periodo(d, m, y):\n",
    "    return (datetime.now().year - y) + (datetime.now().month -m) + (datetime.now().day -d)\n",
    "Periodo(24, 5, 2022)\n",
    "\n",
    "for i in range(3):\n",
    "    string = df['NIVER'][i]\n",
    "    d = string[0: 2]\n",
    "    m = string[3: 5]\n",
    "    a = string[6: 10]\n",
    "    p = Periodo(float(d), float(m), float(a))\n",
    "    if p==0.0:\n",
    "        print(\"É niver!\")\n",
    "    else:\n",
    "        print(\"Não é\")"
   ]
  },
  {
   "cell_type": "markdown",
   "id": "98492fb6",
   "metadata": {},
   "source": [
    "#### Agora vocês ver como ficará nosso exemplo com as novas implementações:"
   ]
  },
  {
   "cell_type": "code",
   "execution_count": 83,
   "id": "91ac5da8",
   "metadata": {},
   "outputs": [
    {
     "ename": "AttributeError",
     "evalue": "module 'pyautogui' has no attribute 'writey'",
     "output_type": "error",
     "traceback": [
      "\u001b[1;31m---------------------------------------------------------------------------\u001b[0m",
      "\u001b[1;31mAttributeError\u001b[0m                            Traceback (most recent call last)",
      "Input \u001b[1;32mIn [83]\u001b[0m, in \u001b[0;36m<cell line: 5>\u001b[1;34m()\u001b[0m\n\u001b[0;32m     18\u001b[0m pyautogui\u001b[38;5;241m.\u001b[39mpress(\u001b[38;5;124m\"\u001b[39m\u001b[38;5;124mtab\u001b[39m\u001b[38;5;124m\"\u001b[39m) \u001b[38;5;66;03m# pula pro campo de assunto\u001b[39;00m\n\u001b[0;32m     19\u001b[0m pyautogui\u001b[38;5;241m.\u001b[39mpress(\u001b[38;5;124m\"\u001b[39m\u001b[38;5;124mtab\u001b[39m\u001b[38;5;124m\"\u001b[39m) \u001b[38;5;66;03m# pula pro campo de assunto\u001b[39;00m\n\u001b[1;32m---> 20\u001b[0m \u001b[43mpyautogui\u001b[49m\u001b[38;5;241;43m.\u001b[39;49m\u001b[43mwritey\u001b[49m(\u001b[38;5;124m\"\u001b[39m\u001b[38;5;124mFeliz \u001b[39m\u001b[38;5;130;01m\\n\u001b[39;00m\u001b[38;5;124m\"\u001b[39m),\n\u001b[0;32m     21\u001b[0m pyperclip\u001b[38;5;241m.\u001b[39mcopy(\u001b[38;5;124m\"\u001b[39m\u001b[38;5;124m Aniversario! \u001b[39m\u001b[38;5;130;01m\\n\u001b[39;00m\u001b[38;5;124m\"\u001b[39m),\n\u001b[0;32m     22\u001b[0m pyautogui\u001b[38;5;241m.\u001b[39mhotkey(\u001b[38;5;124m\"\u001b[39m\u001b[38;5;124mctrl\u001b[39m\u001b[38;5;124m\"\u001b[39m, \u001b[38;5;124m\"\u001b[39m\u001b[38;5;124mv\u001b[39m\u001b[38;5;124m\"\u001b[39m) \u001b[38;5;66;03m# escrever o assunto\u001b[39;00m\n",
      "\u001b[1;31mAttributeError\u001b[0m: module 'pyautogui' has no attribute 'writey'"
     ]
    }
   ],
   "source": [
    "from datetime import datetime\n",
    "def Periodo(d, m, y):\n",
    "    return (datetime.now().year - y) + (datetime.now().month -m) + (datetime.now().day -d)\n",
    "\n",
    "for i in range(3):\n",
    "    string = df['NIVER'][i]\n",
    "    d = string[0: 2]\n",
    "    m = string[3: 5]\n",
    "    a = string[6: 10]\n",
    "    p = Periodo(float(d), float(m), float(a))\n",
    "    if p==0.0:\n",
    "        pyautogui.hotkey(\"ctrl\", \"t\")\n",
    "        pyperclip.copy(\"https://mail.google.com/mail/u/0/?hl=pt-BR#inbox?compose=new\")\n",
    "        pyautogui.hotkey(\"ctrl\", \"v\")\n",
    "        pyautogui.press(\"enter\")\n",
    "        time.sleep(10)    \n",
    "        pyautogui.write(str(df[\"e-mail\"][i]))\n",
    "        pyautogui.press(\"tab\") # pula pro campo de assunto\n",
    "        pyautogui.press(\"tab\") # pula pro campo de assunto\n",
    "        pyautogui.writey(\"Feliz \\n\"),\n",
    "        pyperclip.copy(\" Aniversario! \\n\"),\n",
    "        pyautogui.hotkey(\"ctrl\", \"v\") # escrever o assunto\n",
    "        pyautogui.press(\"tab\") #pular pro corpo do email\n",
    "        time.sleep(7)\n",
    "        pyautogui.write(\"Passando para desejar muitas felicidades! \\n\")\n",
    "        pyperclip.copy(\"E muitos anos de vida. \\n\")\n",
    "        pyperclip.copy(\"Aproveite bem o seu dia!\")\n",
    "        time.sleep(5)\n",
    "        # apertar Ctrl Enter\n",
    "        pyautogui.hotkey(\"ctrl\", \"enter\")\n",
    "        # Tela de processo concluído\n",
    "    else:\n",
    "        print(\"Não é niver!\")\n",
    "    \n",
    "time.sleep(5)\n",
    "pyautogui.hotkey(\"ctrl\", \"t\")\n",
    "pyperclip.copy(\"https://www.gov.br/cgu/pt-br/100-dias/statusconcluido.png/@@images/image\")\n",
    "pyautogui.hotkey(\"ctrl\", \"v\")\n",
    "pyautogui.press(\"enter\")"
   ]
  },
  {
   "cell_type": "code",
   "execution_count": null,
   "id": "009519c6",
   "metadata": {},
   "outputs": [],
   "source": []
  },
  {
   "cell_type": "code",
   "execution_count": null,
   "id": "085ad4b4",
   "metadata": {},
   "outputs": [],
   "source": []
  }
 ],
 "metadata": {
  "kernelspec": {
   "display_name": "Python 3 (ipykernel)",
   "language": "python",
   "name": "python3"
  },
  "language_info": {
   "codemirror_mode": {
    "name": "ipython",
    "version": 3
   },
   "file_extension": ".py",
   "mimetype": "text/x-python",
   "name": "python",
   "nbconvert_exporter": "python",
   "pygments_lexer": "ipython3",
   "version": "3.9.12"
  }
 },
 "nbformat": 4,
 "nbformat_minor": 5
}
