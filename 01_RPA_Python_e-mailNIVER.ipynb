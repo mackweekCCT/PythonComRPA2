{
 "cells": [
  {
   "cell_type": "markdown",
   "id": "1b75d899",
   "metadata": {},
   "source": [
    "### Mini Curso: \n",
    "# INTRODUÇÃO À LINGUAGEM PYTHON C/ AUTOMAÇÃO ROBÓTICA DE PROCESSOS \n",
    "## Prof. Massaki de Oliveira Igarashi (prof.massaki@gmail.com)\n",
    "\n",
    "# *Definição:*\n",
    "Automação Robótica de Processos  (Robotic Process Automation - RPA) é um termo genérico para ferramentas que operam em interface do usuário de outros sistemas de computador para imitar o comportamento humano em tarefas repetitivas. RPA visa substituir as pessoas por automação feita de maneira “de fora para dentro” (VAN DER AALST, 2018).  \n",
    "\n",
    "As ferramentas RPA executam instruções [if, then, else] em dados, normalmente usando uma combinação de interface do usuário, interações ou conectando-se a APIs para direcionar servidores clientes, mainframes ou código HTML. Elas mapeiam um processo descrito na linguagem da ferramenta RPA para o robô de software seguir, com o tempo de execução alocado para executar o script por um painel de controle (TORNBOHM, 2017; VAN DER AALST, 2018). \n",
    "\n",
    "# *Propósito e aplicações*\n",
    "* Preenchimento de formulários e/ou digitações em sites ou sistemas com informações obtidas de diferentes fontes;\n",
    "* Extração de informações de outros sistemas, abastecendo o sistema interno (capturar informações contidas em planilhas, arquivos, textos ou PDF)\n",
    "* Verificação e comparação de conteúdo entre duas ou mais fontes distintas de documentos;\n",
    "* Download/upload de arquivos;\n",
    "* Integração entre sistemas s/ necessidade de desenvolv// ou customização\n",
    "* Envio e recebimento de e-mails\n",
    "* Gerenciamento de eventos\n",
    "* Captura de documentos e transformação em dados estruturados\n",
    "* Processos com tarefas repetitivas em geral...\n",
    "\n",
    "# *Benefícios*\n",
    "* Agilidade;\n",
    "* Consistência;\n",
    "* Dispensa colaboradores de tarefas repetitivas;\n",
    "* Precisão;\n",
    "* Uniformidade;"
   ]
  },
  {
   "cell_type": "markdown",
   "id": "8fb86515",
   "metadata": {},
   "source": [
    "# **************** CONCEITOS BÁSICOS DE PYTHON **************** "
   ]
  },
  {
   "cell_type": "markdown",
   "id": "572fdbed",
   "metadata": {},
   "source": [
    "Além do nosso próprio código, existe o compartilhamento de código em forma de módulos e bibliotecas disponibilizados para auxiliar a programação. O uso de bibliotecas já validadas agiliza o desenvolvimento. E, para utilizar estas bibliotecas, mais uma vez temos que utilizar o comando **“Import”.**"
   ]
  },
  {
   "cell_type": "markdown",
   "id": "0bb1ff87",
   "metadata": {},
   "source": [
    "## Para importar um módulo utilizamos o import.\n",
    "### import package"
   ]
  },
  {
   "cell_type": "code",
   "execution_count": 1,
   "id": "7085c73e",
   "metadata": {},
   "outputs": [
    {
     "name": "stdout",
     "output_type": "stream",
     "text": [
      "6.0\n"
     ]
    }
   ],
   "source": [
    "import math\n",
    "print(math.sqrt(36))"
   ]
  },
  {
   "cell_type": "markdown",
   "id": "ed35e01a",
   "metadata": {},
   "source": [
    "### O código acima importará todos os módulos de math, para importar apenas o necessário utilizamos from."
   ]
  },
  {
   "cell_type": "markdown",
   "id": "f8eac696",
   "metadata": {},
   "source": [
    "## from package import item\n",
    "\n",
    "### O código abaixo importará o módulo sqrt do pacote math."
   ]
  },
  {
   "cell_type": "code",
   "execution_count": 2,
   "id": "39fdc7e9",
   "metadata": {},
   "outputs": [
    {
     "name": "stdout",
     "output_type": "stream",
     "text": [
      "6.0\n"
     ]
    }
   ],
   "source": [
    "from math import sqrt\n",
    "print(sqrt(36))"
   ]
  },
  {
   "cell_type": "markdown",
   "id": "7e9524ab",
   "metadata": {},
   "source": [
    "# **************** ENVIO DE E-MAIL AUTOMÁTICO COM SEU G-mail **************** "
   ]
  },
  {
   "cell_type": "markdown",
   "id": "7cca5ef4",
   "metadata": {},
   "source": [
    "# **Passo 0) Preparativo:**\n",
    "\n",
    "Antes de rodar este programa é imprescindível que você ABRA uma **NOVA ABA** e efetue **LOGIN NO SEU G-MAIL.**"
   ]
  },
  {
   "cell_type": "markdown",
   "id": "d9e5b817",
   "metadata": {},
   "source": [
    "### Passo 01) Importar as BIBLIOTECAS Robotic Process Automation – RPA"
   ]
  },
  {
   "cell_type": "code",
   "execution_count": 3,
   "id": "bf0064c1",
   "metadata": {},
   "outputs": [],
   "source": [
    "import pyautogui\n",
    "import pyperclip\n",
    "import time\n",
    "\n",
    "pyautogui.PAUSE = 1"
   ]
  },
  {
   "cell_type": "markdown",
   "id": "7d022baf",
   "metadata": {},
   "source": [
    "# 1 - Principais métodos da biblioteca PYAUTOGUI\n",
    "### 1.1 hotkey()\n",
    "Para tornar conveniente pressionar teclas de atalho ou atalhos de teclado, a função hotkey() permite passar ao python as sequências de teclas que serão pressionadas na ordem e depois liberadas na ordem inversa.\n",
    "### 1.2 press()\n",
    "A função press() pressiona a tecla escolhida. A seguir estão as strings válidas para passar para a função PRESS():\n",
    "['\\t', '\\n', '\\r', ' ', '!', '\"', '#', '$', '%', '&', \"'\", '(',\n",
    "')', '*', '+', ',', '-', '.', '/', '0', '1', '2', '3', '4', '5', '6', '7',\n",
    "'8', '9', ':', ';', '<', '=', '>', '?', '@', '[', '\\\\', ']', '^', '_', '`',\n",
    "'a', 'b', 'c', 'd', 'e','f', 'g', 'h', 'i', 'j', 'k', 'l', 'm', 'n', 'o',\n",
    "'p', 'q', 'r', 's', 't', 'u', 'v', 'w', 'x', 'y', 'z', '{', '|', '}', '~',\n",
    "'accept', 'add', 'alt', 'altleft', 'altright', 'apps', 'backspace',\n",
    "'browserback', 'browserfavorites', 'browserforward', 'browserhome',\n",
    "'browserrefresh', 'browsersearch', 'browserstop', 'capslock', 'clear',\n",
    "'convert', 'ctrl', 'ctrlleft', 'ctrlright', 'decimal', 'del', 'delete',\n",
    "'divide', 'down', 'end', 'enter', 'esc', 'escape', 'execute', 'f1', 'f10',\n",
    "'f11', 'f12', 'f13', 'f14', 'f15', 'f16', 'f17', 'f18', 'f19', 'f2', 'f20',\n",
    "'f21', 'f22', 'f23', 'f24', 'f3', 'f4', 'f5', 'f6', 'f7', 'f8', 'f9',\n",
    "'final', 'fn', 'hanguel', 'hangul', 'hanja', 'help', 'home', 'insert', 'junja',\n",
    "'kana', 'kanji', 'launchapp1', 'launchapp2', 'launchmail',\n",
    "'launchmediaselect', 'left', 'modechange', 'multiply', 'nexttrack',\n",
    "'nonconvert', 'num0', 'num1', 'num2', 'num3', 'num4', 'num5', 'num6',\n",
    "'num7', 'num8', 'num9', 'numlock', 'pagedown', 'pageup', 'pause', 'pgdn',\n",
    "'pgup', 'playpause', 'prevtrack', 'print', 'printscreen', 'prntscrn',\n",
    "'prtsc', 'prtscr', 'return', 'right', 'scrolllock', 'select', 'separator',\n",
    "'shift', 'shiftleft', 'shiftright', 'sleep', 'space', 'stop', 'subtract', 'tab',\n",
    "'up', 'volumedown', 'volumemute', 'volumeup', 'win', 'winleft', 'winright', 'yen',\n",
    "'command', 'option', 'optionleft', 'optionright']\n",
    "\n",
    "### 1.3 write()\n",
    "A função principal do teclado é write(). Esta função digitará os caracteres na sequência que é passada. Para adicionar um intervalo de atraso entre pressionar cada tecla de caractere, passe uma int ou flutue para o argumento da palavra-chave do interval."
   ]
  },
  {
   "cell_type": "markdown",
   "id": "6c832d06",
   "metadata": {},
   "source": [
    "# 2 - Principais métodos da biblioteca PYPERCLIP\n",
    "Pyperclip é um módulo que permite copiar e colar de e para a área de transferência em seu computador. Ele faz isso através do uso de duas funções: \n",
    "### 2.1 copy()\n",
    "### 2.2 paste()\n",
    "É simples!\n",
    "\n",
    "\n",
    "# 3 - Principais métodos da biblioteca TIME\n",
    "A biblioteca time apresenta os métodos que tem ação relacionada À temporização\n",
    "### 3.1 sleep()\n",
    "função sleep() permite suspender a execução do segmento de chamada por quantos segundos você especificar.\n",
    "Aqui está um exemplo de como usar time.sleep():\n",
    "\n",
    ">>> import time\n",
    ">>> time.sleep(3) # Aguarda 3 segundos até a execução da próxima linha do programa\n"
   ]
  },
  {
   "cell_type": "code",
   "execution_count": 5,
   "id": "58d65bdd",
   "metadata": {},
   "outputs": [],
   "source": [
    "#Entrar no email\n",
    "pyautogui.hotkey(\"ctrl\", \"t\")\n",
    "pyperclip.copy(\"https://mail.google.com/mail/u/0/#inbox?compose=new\")\n",
    "pyautogui.hotkey(\"ctrl\", \"v\")\n",
    "pyautogui.press(\"enter\")\n",
    "time.sleep(7)\n",
    "#pyautogui.press(\"tab\") # pula pro campo de assunto\n",
    "pyautogui.write(\"prof.massaki@gmail.com\")\n",
    "pyautogui.press(\"tab\") # pula pro campo de assunto\n",
    "pyautogui.press(\"tab\") # pula pro campo de assunto\n",
    "pyautogui.write(\"Feliz\")\n",
    "pyperclip.copy(\" Aniversario.\")\n",
    "pyautogui.hotkey(\"ctrl\", \"v\") # escrever o assunto\n",
    "pyautogui.press(\"tab\") #pular pro corpo do email\n",
    "time.sleep(7)\n",
    "pyautogui.write(\"Que a vida te traga sempre motivos para sorrir! \\n\")\n",
    "pyautogui.write(\"Muitas felicidades e muitos anos de vida. \\n\")\n",
    "pyautogui.write(\"Aproveite bem o seu dia!\")\n",
    "time.sleep(5)\n",
    "# apertar Ctrl Enter\n",
    "pyautogui.hotkey(\"ctrl\", \"enter\")\n",
    "# Tela de processo concluído\n",
    "time.sleep(5)\n",
    "pyautogui.hotkey(\"ctrl\", \"t\")\n",
    "pyperclip.copy(\"https://www.gov.br/cgu/pt-br/100-dias/statusconcluido.png/@@images/image\")\n",
    "pyautogui.hotkey(\"ctrl\", \"v\")\n",
    "pyautogui.press(\"enter\")"
   ]
  },
  {
   "cell_type": "markdown",
   "id": "e0c0b70b",
   "metadata": {},
   "source": [
    "# *Referências Bibliográficas*\n",
    "AGATON, BJÖRN; SWEDBERG, GUSTAV. Evaluating and Developing Methods to Assess Business Process Suitability for Robotic Process Automation. Department of Computer Science and Engineering, 2018.\n",
    "\n",
    "AGOSTINELLI, Simone; MARRELLA, Andrea; MECELLA, Massimo. Towards Intelligent Robotic Process Automation for BPMers. arXiv preprint arXiv:2001.00804, 2020.\n",
    "\n",
    "AGUIRRE S, Rodriguez A. Automation of a business process using robotic process automation (RPA): a case study. Appl Comput Sci Eng Commun Comput Inf Sci, 2017. https://doi.org/10. 1007/978-3-319-66963-2_\n",
    "\n",
    "FERREIRA, Deborah et al. On the Evaluation of Intelligence Process Automation. arXiv preprint arXiv:2001.02639, 2020.\n",
    "\n",
    "HERBERT, I.; DHAYALAN, A.; SCOTT, A. The future of professional work: Will you be replaced or will you be sitting next to a robot. Management Services, v. 60, n. 2, p. 22-27, 2016.\n",
    "\n",
    "HOFMANN, Peter & Samp, Caroline & Urbach, Nils. Robotic Process Automation. Electronic Markets, 2019. 10.1007/s12525-019-00365-8. \n",
    "\n",
    "KIRCHMER, Mathias. Robotic process automation-pragmatic solution or dangerous illusion. Business Transformation & Operational Excellence World Summit (BTOES), 2017.\n",
    "\n",
    "LE CLAIR, Craig; UIPATH, Automation Anywhere; PRISM, Blue. The Forrester Wave™: Robotic Process Automation, Q2 2018. Forrester Research, 2018.\n",
    "\n",
    "LENO, Volodymyr et al. Action logger: Enabling process mining for robotic process automation. In: Proceedings of the Dissertation Award, Doctoral Consortium, and Demonstration Track at 17th International Conference on Business Process Management,(BPM’19), Vienna, Austria. 2019. p. 124-128.\n",
    "\n",
    "SYED, Rehan et al. Robotic Process Automation: Contemporary themes and challenges. Computers in Industry, v. 115, p. 103162, 2020.\n",
    "\n",
    "TELI, Ruchira; PRASAD, Suneel Kumar. Delivering Value in Procurement With Robotic Cognitive Automation (RCA) Services. In: Robotic Systems: Concepts, Methodologies, Tools, and Applications. IGI Global, 2020. p. 1773-1785.\n",
    "\n",
    "TORNBOHN C (2017) Gartner market guide for robotic process automation software. Report G00319864. Gartner\n",
    "\n",
    "VAN DER AALST, Wil MP; BICHLER, Martin; HEINZL, Armin. Robotic process automation. 2018.\n",
    "\n",
    "# *Links:*\n",
    "* https://realpython.com/python-sleep/\n",
    "* https://acervolima.com/modulo-pyperclip-em-python/"
   ]
  },
  {
   "cell_type": "code",
   "execution_count": null,
   "id": "661209aa",
   "metadata": {},
   "outputs": [],
   "source": []
  }
 ],
 "metadata": {
  "kernelspec": {
   "display_name": "Python 3 (ipykernel)",
   "language": "python",
   "name": "python3"
  },
  "language_info": {
   "codemirror_mode": {
    "name": "ipython",
    "version": 3
   },
   "file_extension": ".py",
   "mimetype": "text/x-python",
   "name": "python",
   "nbconvert_exporter": "python",
   "pygments_lexer": "ipython3",
   "version": "3.9.12"
  }
 },
 "nbformat": 4,
 "nbformat_minor": 5
}
